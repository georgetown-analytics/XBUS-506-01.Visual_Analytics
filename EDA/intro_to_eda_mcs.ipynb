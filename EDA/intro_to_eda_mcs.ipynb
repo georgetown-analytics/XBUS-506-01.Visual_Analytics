{
 "cells": [
  {
   "cell_type": "markdown",
   "metadata": {},
   "source": [
    "# Visualization basics with Matplotlib, Pandas and Seaborn\n",
    "\n",
    "In this lab you will be working with the data you've selected for your mini-capstone. I expect by now everyone is capable of loading up their data into working memory, eg, a Pandas Dataframe.\n",
    "\n",
    "This lab will have code to perform an exploratory data analysis using the most common visualization tools available in Matplotlib, Pandas and Seaborn."
   ]
  },
  {
   "cell_type": "markdown",
   "metadata": {},
   "source": [
    "### Import Libraries"
   ]
  },
  {
   "cell_type": "code",
   "execution_count": 1,
   "metadata": {},
   "outputs": [],
   "source": [
    "import pandas as pd \n",
    "import seaborn as sns\n",
    "import matplotlib.pyplot as plt"
   ]
  },
  {
   "cell_type": "markdown",
   "metadata": {},
   "source": [
    "### Load a Dataset\n",
    "\n",
    "I expect you to be able to fill write the code necessary to load your own dataset. It is not uncommon to accompany code to load data with some basic wrangling techniques, such as dropping columns, changing datatypes, or renaming columns. Include that code here as well.\n",
    "\n",
    "Lastly, it is very common that datasets are stored as CSV or Excel files, which can be stored in working memory as a Pandas Dataframe. Pandas is an open source, BSD-licensed library providing high-performance, easy-to-use data structures and data analysis tools for Python programmers and data scientists. Below is are two lines of code that load and print the first five rows of an Excel spreadsheet.\n",
    "\n",
    "Example:\n",
    "```python\n",
    "df = pd.read_excel('filepath/file.xlsx')\n",
    "df.head()\n",
    "```"
   ]
  },
  {
   "cell_type": "code",
   "execution_count": 1,
   "metadata": {},
   "outputs": [],
   "source": [
    "### Write the code to load your dataset here."
   ]
  },
  {
   "cell_type": "markdown",
   "metadata": {},
   "source": [
    "### Basic Summary Statistics\n",
    "\n",
    "Basic summary statistics can be produced with Pandas `.describe()` function, returning a Pandas Dataframe. In addition, individual calculations can be made on specific columns using stand-alone functions, such as `.mean()`.\n",
    "\n",
    "Example:\n",
    "```python\n",
    "df.describe()\n",
    "```"
   ]
  },
  {
   "cell_type": "code",
   "execution_count": 8,
   "metadata": {},
   "outputs": [],
   "source": [
    "### Apply the describe function to your dataset, or to a subset of features, to produce summary statistics. "
   ]
  },
  {
   "cell_type": "markdown",
   "metadata": {},
   "source": [
    "### Pandas Visualization Toolkit\n",
    "\n",
    "Pandas has plenty of useful [visualization tools](https://pandas.pydata.org/pandas-docs/stable/user_guide/visualization.html) available out of the box."
   ]
  },
  {
   "cell_type": "markdown",
   "metadata": {},
   "source": [
    "#### Area Plots\n",
    "\n",
    "Use Pandas `.plot()` function to create an [area plot](https://pandas.pydata.org/docs/reference/api/pandas.DataFrame.plot.area.html). Try changing the `figsize` and `stacked` from their defaults. What do you notice about the range of your data?\n",
    "\n",
    "Example:\n",
    "```python\n",
    "df.plot(kind='area', stacked=False, figsize=[10,7])\n",
    "```"
   ]
  },
  {
   "cell_type": "code",
   "execution_count": 10,
   "metadata": {},
   "outputs": [],
   "source": [
    "### Write code for an area plot."
   ]
  },
  {
   "cell_type": "markdown",
   "metadata": {},
   "source": [
    "#### Scatter Plots\n",
    "\n",
    "Use Pandas `.plot()` function to create a [scatter plot](https://pandas.pydata.org/docs/reference/api/pandas.DataFrame.plot.scatter.html) from your Pandas Dataframe. Do you see any patterns in the two features in your plot?\n",
    "\n",
    "Example:\n",
    "```python\n",
    "df.plot(kind='scatter', x=df['x_values'], y=df['y_values'])\n",
    "```"
   ]
  },
  {
   "cell_type": "code",
   "execution_count": 5,
   "metadata": {},
   "outputs": [],
   "source": [
    "### Create a scatter plot."
   ]
  },
  {
   "cell_type": "markdown",
   "metadata": {},
   "source": [
    "Try changing the *color* of data points based on a numeric column in your dataset.\n",
    "\n",
    "Example:\n",
    "```python\n",
    "df.plot(kind='scatter', x=df['x_values'], y=df['y_values'], c=df['COLOR_VALUES'])\n",
    "```"
   ]
  },
  {
   "cell_type": "code",
   "execution_count": 6,
   "metadata": {},
   "outputs": [],
   "source": [
    "### Re-create the scatter plot by changing the color of the data points."
   ]
  },
  {
   "cell_type": "markdown",
   "metadata": {},
   "source": [
    "Lastly, try changing the *size* of the data points based on a numeric column in your dataset. If you don't have one that makes sense, that's ok, use it anyway.\n",
    "\n",
    "Example:\n",
    "```python\n",
    "df.plot(kind='scatter', x=df['x_values'], y=df['y_values'], s=df['SIZE_VALUES'])\n",
    "```"
   ]
  },
  {
   "cell_type": "code",
   "execution_count": 7,
   "metadata": {},
   "outputs": [],
   "source": [
    "### Re-create the scatter plot by changing the size of the data points."
   ]
  },
  {
   "cell_type": "markdown",
   "metadata": {},
   "source": [
    "#### Box plots\n",
    "\n",
    "Use Pandas `.plot()` function to create a [box plot](https://pandas.pydata.org/docs/reference/api/pandas.DataFrame.plot.scatter.html) of the numeric columns in your Pandas Dataframe.\n",
    "\n",
    "Example:\n",
    "```python\n",
    "df.plot(kind='box')\n",
    "```"
   ]
  },
  {
   "cell_type": "code",
   "execution_count": 16,
   "metadata": {},
   "outputs": [],
   "source": [
    "### Create a boxplot."
   ]
  },
  {
   "cell_type": "markdown",
   "metadata": {},
   "source": [
    "#### Histograms\n",
    "Use Pandas `.plot()` function to create a [histogram](https://pandas.pydata.org/docs/reference/api/pandas.DataFrame.plot.scatter.html) of only one column in your Pandas Dataframe. The `alpha` argument change the transparency of the colors used in the graph.\n",
    "\n",
    "Example:\n",
    "```python\n",
    "df['feature'].plot(kind='hist', alpha=0.5)\n",
    "```"
   ]
  },
  {
   "cell_type": "code",
   "execution_count": 1,
   "metadata": {},
   "outputs": [],
   "source": [
    "### Create a histogram."
   ]
  },
  {
   "cell_type": "markdown",
   "metadata": {},
   "source": [
    "Try instead to use the `.hist()` function instead of `.plot()`. In this case, Pandas will plot *all* numeric columns in your dataset as a histogram. If your dataset has more than 12 numeric columsn, then I would recommend you subset them or skip this cell entirely.\n",
    "\n",
    "Example:\n",
    "```python\n",
    "df.hist()\n",
    "```"
   ]
  },
  {
   "cell_type": "code",
   "execution_count": 21,
   "metadata": {},
   "outputs": [],
   "source": [
    "### Re-create the histogram."
   ]
  },
  {
   "cell_type": "markdown",
   "metadata": {},
   "source": [
    "#### Histogram with Kernel Density Estimation (KDE)\n",
    "\n",
    "Example:\n",
    "```python\n",
    "df['wall_area'].plot(kind='kde')\n",
    "```"
   ]
  },
  {
   "cell_type": "code",
   "execution_count": 11,
   "metadata": {},
   "outputs": [],
   "source": [
    "### Recreate histogram with a KDE."
   ]
  },
  {
   "cell_type": "markdown",
   "metadata": {},
   "source": [
    "### Seaborn Visualization Toolkit\n",
    "\n",
    "[Seaborn](https://seaborn.pydata.org/) is a Python visualization library based on matplotlib. It provides a high-level interface for drawing attractive statistical graphics. You may also want to browse the example gallery to get a sense for what you can do with seaborn and then check out the tutorial and API reference to find out how.\n",
    "\n",
    "Seaborn has a lot of the same methods as Pandas, like [boxplots](http://seaborn.pydata.org/generated/seaborn.boxplot.html?highlight=box%2520plot#seaborn.boxplot) and [histograms](http://seaborn.pydata.org/generated/seaborn.distplot.html), but also comes with some novel tools."
   ]
  },
  {
   "cell_type": "markdown",
   "metadata": {},
   "source": [
    "#### Countplot\n",
    "\n",
    "This is a visualization best for two categorical features. The [Countplot](https://seaborn.pydata.org/generated/seaborn.countplot.html) function produces a barplot based on the frequencies of values in one feature, split by the classes of some another feature. The `x` or `y` argument represents the frequencies used for the barplot and the `hue` argument specifices a column to group the frequencies by, such as a binary variable. Us the `.countplot()` function to create a countplot in Seaborn.\n",
    "\n",
    "Example of counting one feature grouped by another:\n",
    "```python\n",
    "sns.countplot(data=df, y='feature1', hue='target')\n",
    "```"
   ]
  },
  {
   "cell_type": "code",
   "execution_count": 51,
   "metadata": {},
   "outputs": [],
   "source": [
    "### Generate a countplot below."
   ]
  },
  {
   "cell_type": "markdown",
   "metadata": {},
   "source": [
    "#### Boxplot\n",
    "\n",
    "Seaborn allows you to create [boxplots](https://seaborn.pydata.org/generated/seaborn.boxplot.html) like Pandas, with plenty of easily accessible customizations. Using the `.boxplot()` function to create a boxplot in Seaborn. The `y` argument will plot the boxplot vertically and the `x` argument will plot the column horizontally. You can comebine the two to create multiple boxplots by passing a numeric feature to `y` and a categorical feature to `x`.\n",
    "\n",
    "Example:\n",
    "```python\n",
    "sns.boxplot(data=df, y='numeric', x='category')\n",
    "```"
   ]
  },
  {
   "cell_type": "code",
   "execution_count": 50,
   "metadata": {},
   "outputs": [],
   "source": [
    "### Create a boxplot below."
   ]
  },
  {
   "cell_type": "markdown",
   "metadata": {},
   "source": [
    "#### Violin Plot\n",
    "\n",
    "[Violinplots](https://stanford.edu/~mwaskom/software/seaborn/generated/seaborn.violinplot.html?highlight=violinplots) are often a useful alternative to box-and-whisker plots because they can integrate the information from a traditional boxplot with a kernel density estimate. The violin plot will take arguments `x`, `y`, and `hue` to produce a useful visualization. `y` is the numeric column you want to plot, while `x` is likely another predictor, and `hue` would represent the target.\n",
    "\n",
    "Example:\n",
    "```python\n",
    "sns.violinplot(data=df, x='feature2', y='feature1', hue='target', split=True, scale='count')\n",
    "```"
   ]
  },
  {
   "cell_type": "code",
   "execution_count": 56,
   "metadata": {},
   "outputs": [],
   "source": [
    "### Write the violin plot below."
   ]
  }
 ],
 "metadata": {
  "kernelspec": {
   "display_name": "Python 3.8.10 ('base')",
   "language": "python",
   "name": "python3"
  },
  "language_info": {
   "codemirror_mode": {
    "name": "ipython",
    "version": 3
   },
   "file_extension": ".py",
   "mimetype": "text/x-python",
   "name": "python",
   "nbconvert_exporter": "python",
   "pygments_lexer": "ipython3",
   "version": "3.8.10"
  },
  "vscode": {
   "interpreter": {
    "hash": "9e31117a1847b01258c2b1d2d9a0bafd8d45f8df89f78d88db28ebb4a817b2d1"
   }
  }
 },
 "nbformat": 4,
 "nbformat_minor": 2
}
