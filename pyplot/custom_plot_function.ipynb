{
 "cells": [
  {
   "cell_type": "code",
   "execution_count": null,
   "metadata": {},
   "outputs": [],
   "source": [
    "import numpy as np\n",
    "import matplotlib.pyplot as plt "
   ]
  },
  {
   "cell_type": "code",
   "execution_count": null,
   "metadata": {},
   "outputs": [],
   "source": [
    "import numpy as np\n",
    "import matplotlib.pyplot as plt\n",
    "x = np.linspace(-15, 15, 100) \n",
    "y = np.sin(x)/x\n",
    "plt.plot(x, y, label=\"f(x)\")\n",
    "plt.plot(x, y, 'co', label=\"cyan dot f(x)\")\n",
    "plt.plot(x, 2*y, x, 3*y, label=\"scaled f(x)\") \n",
    "plt.xlabel(\"x-axis\")\n",
    "plt.ylabel(\"y-axis\")\n",
    "plt.title(\"Graph of Functions\")\n",
    "plt.legend()\n",
    "plt.show()"
   ]
  },
  {
   "cell_type": "markdown",
   "metadata": {},
   "source": [
    "### Plot Function\n",
    "\n",
    "Custom plot function with configurable parameters to generate your plot\n",
    "In this example, we have two required parameters: `x` and `y`, two optional parameters: `xlabel` and `ylabel` with default non-null values, and one additional optional parameter: `title` with a default of `None`"
   ]
  },
  {
   "cell_type": "code",
   "execution_count": null,
   "metadata": {},
   "outputs": [],
   "source": [
    "def plot(x, y, xlabel=\"x-axis\", ylabel=\"y-axis\", title=None):\n",
    "    plt.plot(x, y, label=\"f(x)\")\n",
    "    plt.plot(x, y, 'co', label=\"cyan dot f(x)\")\n",
    "    plt.plot(x, 2*y, x, 3*y, label=\"scaled f(x)\") \n",
    "    plt.xlabel(xlabel)\n",
    "    plt.ylabel(ylabel)\n",
    "    if title is not None:\n",
    "        plt.title(title)\n",
    "    plt.legend()\n",
    "    return plt"
   ]
  },
  {
   "cell_type": "markdown",
   "metadata": {},
   "source": [
    "### Example passing only the required parameters"
   ]
  },
  {
   "cell_type": "code",
   "execution_count": null,
   "metadata": {},
   "outputs": [],
   "source": [
    "x = np.linspace(-15, 15, 100) \n",
    "y = np.sin(x)/x\n",
    "plt = plot(x=x, y=y)\n",
    "plt.show()"
   ]
  },
  {
   "cell_type": "markdown",
   "metadata": {},
   "source": [
    "### Example passing custom values for all optional parameters"
   ]
  },
  {
   "cell_type": "code",
   "execution_count": null,
   "metadata": {},
   "outputs": [],
   "source": [
    "x = np.linspace(-15, 15, 100) \n",
    "y = np.sin(x)/x\n",
    "plt = plot(x=x, y=y, xlabel=\"x\", ylabel=\"y\", title=\"sine waves\")\n",
    "plt.show()"
   ]
  },
  {
   "cell_type": "markdown",
   "metadata": {},
   "source": [
    "### Example changing the order of optional parameters"
   ]
  },
  {
   "cell_type": "code",
   "execution_count": null,
   "metadata": {},
   "outputs": [],
   "source": [
    "x = np.linspace(-15, 15, 100) \n",
    "y = np.sin(x)/x\n",
    "plt = plot(x=x, y=y, ylabel=\"y\", xlabel=\"x\", title=\"sine waves\")\n",
    "plt.show()"
   ]
  },
  {
   "cell_type": "markdown",
   "metadata": {},
   "source": [
    "### Example where the parameter names are not used for the required values (order matters!!!!)"
   ]
  },
  {
   "cell_type": "code",
   "execution_count": null,
   "metadata": {},
   "outputs": [],
   "source": [
    "x = np.linspace(-15, 15, 100) \n",
    "y = np.sin(x)/x\n",
    "plt = plot(x, y, ylabel=\"y\", xlabel=\"x\", title=\"sine waves\")\n",
    "plt.show()"
   ]
  },
  {
   "cell_type": "markdown",
   "metadata": {},
   "source": [
    "### Example using some of the required parameters"
   ]
  },
  {
   "cell_type": "code",
   "execution_count": null,
   "metadata": {},
   "outputs": [],
   "source": [
    "x = np.linspace(-15, 15, 100) \n",
    "y = np.sin(x)/x\n",
    "plt = plot(x, y, ylabel=\"y\", xlabel=\"x\")\n",
    "plt.show()"
   ]
  }
 ],
 "metadata": {
  "kernelspec": {
   "display_name": "Python 3 (ipykernel)",
   "language": "python",
   "name": "python3"
  },
  "language_info": {
   "codemirror_mode": {
    "name": "ipython",
    "version": 3
   },
   "file_extension": ".py",
   "mimetype": "text/x-python",
   "name": "python",
   "nbconvert_exporter": "python",
   "pygments_lexer": "ipython3",
   "version": "3.7.2"
  }
 },
 "nbformat": 4,
 "nbformat_minor": 1
}
